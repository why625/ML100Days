{
 "cells": [
  {
   "cell_type": "markdown",
   "metadata": {},
   "source": [
    "# 作業\n",
    "- 新增一個欄位 `customized_age_grp`，把 `age` 分為 (0, 10], (10, 20], (20, 30], (30, 50], (50, 100] 這五組，\n",
    "'(' 表示不包含, ']' 表示包含  \n",
    "- Hints: 執行 ??pd.cut，了解提供其中 bins 這個參數的使用方式"
   ]
  },
  {
   "cell_type": "code",
   "execution_count": 10,
   "metadata": {},
   "outputs": [],
   "source": [
    "import pandas as pd\n",
    "?pd.cut\n",
    "pd.cut(\n",
    "    x,\n",
    "    bins,\n",
    "    right: bool = True,\n",
    "    labels=None,\n",
    "    retbins: bool = False,\n",
    "    precision: int = 3,\n",
    "    include_lowest: bool = False,\n",
    "    duplicates: str = 'raise',\n",
    "    ordered: bool = True,\n",
    ")\n",
    "\n",
    "# bins : int, sequence of scalars, or IntervalIndex\n",
    "#     The criteria to bin by.\n",
    "\n",
    "#     * int : Defines the number of equal-width bins in the range of `x`. The\n",
    "#       range of `x` is extended by .1% on each side to include the minimum\n",
    "#       and maximum values of `x`.\n",
    "#     * sequence of scalars : Defines the bin edges allowing for non-uniform\n",
    "#       width. No extension of the range of `x` is done.\n",
    "#     * IntervalIndex : Defines the exact bins to be used. Note that\n",
    "#       IntervalIndex for `bins` must be non-overlapping.\n"
   ]
  },
  {
   "cell_type": "markdown",
   "metadata": {},
   "source": [
    "# [作業目標]\n",
    "- 請同學試著查詢 pandas.cut 這個函數還有哪些參數, 藉由改動參數以達成目標\n",
    "- 藉由查詢與改動參數的過程, 熟悉查詢函數的方法與理解參數性質, 並了解數值的離散化的調整工具"
   ]
  },
  {
   "cell_type": "markdown",
   "metadata": {},
   "source": [
    "# [作業重點]\n",
    "- 仿照 In[3], In[4] 的語法, 並設定 pd.cut 的參數以指定間距"
   ]
  },
  {
   "cell_type": "code",
   "execution_count": 4,
   "metadata": {},
   "outputs": [],
   "source": [
    "# 載入套件\n",
    "import os\n",
    "import numpy as np\n",
    "import pandas as pd\n",
    "\n",
    "import matplotlib.pyplot as plt\n",
    "%matplotlib inline"
   ]
  },
  {
   "cell_type": "code",
   "execution_count": 11,
   "metadata": {},
   "outputs": [],
   "source": [
    "# 初始設定 Ages 的資料\n",
    "ages = pd.DataFrame({\"age\": [18,22,25,27,7,21,23,37,30,61,45,41,9,18,80,100]})"
   ]
  },
  {
   "cell_type": "markdown",
   "metadata": {},
   "source": [
    "#### 等寬劃分"
   ]
  },
  {
   "cell_type": "code",
   "execution_count": 12,
   "metadata": {},
   "outputs": [],
   "source": [
    "# 新增欄位 \"equal_width_age\", 對年齡做等寬劃分\n",
    "ages[\"equal_width_age\"] = pd.cut(ages[\"age\"], 4)"
   ]
  },
  {
   "cell_type": "code",
   "execution_count": 13,
   "metadata": {},
   "outputs": [
    {
     "data": {
      "text/plain": [
       "(6.907, 30.25]    10\n",
       "(30.25, 53.5]      3\n",
       "(76.75, 100.0]     2\n",
       "(53.5, 76.75]      1\n",
       "Name: equal_width_age, dtype: int64"
      ]
     },
     "execution_count": 13,
     "metadata": {},
     "output_type": "execute_result"
    }
   ],
   "source": [
    "# 觀察等寬劃分下, 每個種組距各出現幾次\n",
    "ages[\"equal_width_age\"].value_counts() # 每個 bin 的值的範圍大小都是一樣的"
   ]
  },
  {
   "cell_type": "code",
   "execution_count": 19,
   "metadata": {},
   "outputs": [
    {
     "data": {
      "text/plain": [
       "0     Group1\n",
       "1     Group1\n",
       "2     Group1\n",
       "3     Group1\n",
       "4     Group1\n",
       "5     Group1\n",
       "6     Group1\n",
       "7     Group2\n",
       "8     Group1\n",
       "9     Group3\n",
       "10    Group2\n",
       "11    Group2\n",
       "12    Group1\n",
       "13    Group1\n",
       "14    Group4\n",
       "15    Group4\n",
       "Name: equal_width_age_labeled, dtype: category\n",
       "Categories (4, object): ['Group1' < 'Group2' < 'Group3' < 'Group4']"
      ]
     },
     "execution_count": 19,
     "metadata": {},
     "output_type": "execute_result"
    }
   ],
   "source": [
    "# 觀察等寬劃分下, 每個種組距各出現幾次\n",
    "ages[\"equal_width_age_labeled\"] = pd.cut(ages[\"age\"], 4, labels = ['Group1', \"Group2\", 'Group3','Group4'])\n",
    "\n",
    "ages[\"equal_width_age_labeled\"]"
   ]
  },
  {
   "cell_type": "markdown",
   "metadata": {},
   "source": [
    "#### 等頻劃分"
   ]
  },
  {
   "cell_type": "code",
   "execution_count": 5,
   "metadata": {
    "collapsed": true
   },
   "outputs": [],
   "source": [
    "# 新增欄位 \"equal_freq_age\", 對年齡做等頻劃分\n",
    "ages[\"equal_freq_age\"] = pd.qcut(ages[\"age\"], 4)"
   ]
  },
  {
   "cell_type": "code",
   "execution_count": 6,
   "metadata": {},
   "outputs": [
    {
     "data": {
      "text/plain": [
       "(42.0, 100.0]     4\n",
       "(26.0, 42.0]      4\n",
       "(20.25, 26.0]     4\n",
       "(6.999, 20.25]    4\n",
       "Name: equal_freq_age, dtype: int64"
      ]
     },
     "execution_count": 6,
     "metadata": {},
     "output_type": "execute_result"
    }
   ],
   "source": [
    "# 觀察等頻劃分下, 每個種組距各出現幾次\n",
    "ages[\"equal_freq_age\"].value_counts() # 每個 bin 的資料筆數是一樣的"
   ]
  },
  {
   "cell_type": "code",
   "execution_count": 32,
   "metadata": {},
   "outputs": [
    {
     "data": {
      "text/plain": [
       "0     (6.99999, 20.25]\n",
       "1        (20.25, 26.0]\n",
       "2        (20.25, 26.0]\n",
       "3         (26.0, 42.0]\n",
       "4     (6.99999, 20.25]\n",
       "5        (20.25, 26.0]\n",
       "6        (20.25, 26.0]\n",
       "7         (26.0, 42.0]\n",
       "8         (26.0, 42.0]\n",
       "9        (42.0, 100.0]\n",
       "10       (42.0, 100.0]\n",
       "11        (26.0, 42.0]\n",
       "12    (6.99999, 20.25]\n",
       "13    (6.99999, 20.25]\n",
       "14       (42.0, 100.0]\n",
       "15       (42.0, 100.0]\n",
       "Name: equal_freq_age_with_edge, dtype: category\n",
       "Categories (4, interval[float64]): [(6.99999, 20.25] < (20.25, 26.0] < (26.0, 42.0] < (42.0, 100.0]]"
      ]
     },
     "execution_count": 32,
     "metadata": {},
     "output_type": "execute_result"
    }
   ],
   "source": [
    "# 新增欄位 \"equal_freq_age\", 對年齡做等頻劃分\n",
    "ages[\"equal_freq_age_with_edge\"] = pd.qcut(ages[\"age\"], 4, precision = 5)\n",
    "ages[\"equal_freq_age_with_edge\"]"
   ]
  },
  {
   "cell_type": "code",
   "execution_count": 33,
   "metadata": {},
   "outputs": [],
   "source": [
    "?pd.qcut"
   ]
  },
  {
   "cell_type": "code",
   "execution_count": null,
   "metadata": {},
   "outputs": [],
   "source": []
  }
 ],
 "metadata": {
  "kernelspec": {
   "display_name": "Python 3",
   "language": "python",
   "name": "python3"
  },
  "language_info": {
   "codemirror_mode": {
    "name": "ipython",
    "version": 3
   },
   "file_extension": ".py",
   "mimetype": "text/x-python",
   "name": "python",
   "nbconvert_exporter": "python",
   "pygments_lexer": "ipython3",
   "version": "3.8.5"
  }
 },
 "nbformat": 4,
 "nbformat_minor": 2
}
