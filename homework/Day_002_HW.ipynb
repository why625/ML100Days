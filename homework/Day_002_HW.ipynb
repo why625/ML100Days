{
 "cells": [
  {
   "cell_type": "markdown",
   "metadata": {},
   "source": [
    "## [作業目標]\n",
    "了解機器學習適合應用的領域與範疇。"
   ]
  },
  {
   "cell_type": "markdown",
   "metadata": {},
   "source": [
    "## [作業重點]\n",
    "透過瞭解機器學習的運作方式，找出非常適用機器學習應用的領域及其原因"
   ]
  },
  {
   "cell_type": "markdown",
   "metadata": {},
   "source": [
    "## 作業\n",
    "請找出一個你認為機器學習可以發光發熱的領域並闡述原因? "
   ]
  },
  {
   "cell_type": "markdown",
   "metadata": {},
   "source": [
    "相信機器學習只要運用得當，在任何領域都可以適當發展並帶來幫助，比如說客戶服務：多數領域，只要有人、交易就會需要重複調用專業知識。\n",
    "但個人覺得客服可以運用的廣，但要能深入到發光發熱的話有兩個領域：娛樂產業和智慧製造，其中又以智慧製造我覺得是最可以發展的。重複性高且目標明確非常適合來形容製造業，比起娛樂產業較為主觀，資料收集較困難，我覺得倒不如運用機器學習讓製造業智慧化後，讓人類不用再做繁瑣重複的工作，進而可以將人轉投入娛樂產業，更多元的發展藝術。"
   ]
  }
 ],
 "metadata": {
  "kernelspec": {
   "display_name": "Python 3",
   "language": "python",
   "name": "python3"
  },
  "language_info": {
   "codemirror_mode": {
    "name": "ipython",
    "version": 3
   },
   "file_extension": ".py",
   "mimetype": "text/x-python",
   "name": "python",
   "nbconvert_exporter": "python",
   "pygments_lexer": "ipython3",
   "version": "3.8.5"
  }
 },
 "nbformat": 4,
 "nbformat_minor": 2
}
